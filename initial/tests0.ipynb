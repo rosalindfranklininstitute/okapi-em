{
 "cells": [
  {
   "cell_type": "markdown",
   "metadata": {},
   "source": [
    "# Attempt to remove charging artifacts\n",
    "\n",
    "Uses different line-by-line techniques in an attempt to remove charging artifacts.\n",
    "\n",
    "First method is FFT filter\n",
    "\n",
    "Second method is by fitting and subtracting a polynomial to the difference between a scan and previous scans\n",
    "\n",
    "Both methods work well and give similar results. They appear to suppress charging artifacts but they introduce new horizontal features.\n",
    "\n"
   ]
  },
  {
   "cell_type": "markdown",
   "metadata": {},
   "source": [
    "Load single images"
   ]
  },
  {
   "cell_type": "code",
   "execution_count": null,
   "metadata": {},
   "outputs": [],
   "source": [
    "import numpy as np\n",
    "import matplotlib.pyplot as plt\n",
    "import tifffile\n",
    "import ipywidgets"
   ]
  },
  {
   "cell_type": "code",
   "execution_count": null,
   "metadata": {},
   "outputs": [],
   "source": [
    "data =  tifffile.imread('2022-02-22_20_12_44_1_18_mode_0.tif')"
   ]
  },
  {
   "cell_type": "code",
   "execution_count": null,
   "metadata": {},
   "outputs": [],
   "source": [
    "plt.figure(figsize=(10,10))\n",
    "plt.imshow(data, cmap='gray')"
   ]
  },
  {
   "cell_type": "code",
   "execution_count": null,
   "metadata": {},
   "outputs": [],
   "source": [
    "data.shape"
   ]
  },
  {
   "cell_type": "code",
   "execution_count": null,
   "metadata": {},
   "outputs": [],
   "source": [
    "data.dtype"
   ]
  },
  {
   "cell_type": "markdown",
   "metadata": {},
   "source": [
    "## Flatten: line-by line corrections"
   ]
  },
  {
   "cell_type": "markdown",
   "metadata": {},
   "source": [
    "line fit"
   ]
  },
  {
   "cell_type": "code",
   "execution_count": null,
   "metadata": {},
   "outputs": [],
   "source": [
    "x= np.arange(data.shape[1])"
   ]
  },
  {
   "cell_type": "code",
   "execution_count": null,
   "metadata": {},
   "outputs": [],
   "source": [
    "#Try with one line\n",
    "data_line =  data[1400,:]"
   ]
  },
  {
   "cell_type": "code",
   "execution_count": null,
   "metadata": {},
   "outputs": [],
   "source": [
    "plt.plot(data_line)"
   ]
  },
  {
   "cell_type": "code",
   "execution_count": null,
   "metadata": {},
   "outputs": [],
   "source": [
    "linefit_params = np.polyfit(x,data_line,1)\n",
    "linefit_params"
   ]
  },
  {
   "cell_type": "code",
   "execution_count": null,
   "metadata": {},
   "outputs": [],
   "source": [
    "#Subtract line\n",
    "line_y = linefit_params[1]+x*linefit_params[0]\n",
    "data_lineflatten = data_line-line_y"
   ]
  },
  {
   "cell_type": "code",
   "execution_count": null,
   "metadata": {},
   "outputs": [],
   "source": [
    "plt.plot(data_line)\n",
    "plt.plot(data_lineflatten)"
   ]
  },
  {
   "cell_type": "markdown",
   "metadata": {},
   "source": [
    "in a function"
   ]
  },
  {
   "cell_type": "code",
   "execution_count": null,
   "metadata": {},
   "outputs": [],
   "source": [
    "def flatten_line(data_line):\n",
    "    x= np.arange(data_line.shape[0])\n",
    "    linefit_params = np.polyfit(x,data_line,1)\n",
    "    \n",
    "    #Subtract line\n",
    "    line_y = linefit_params[1]+x*linefit_params[0]\n",
    "    data_lineflatten = data_line-line_y\n",
    "\n",
    "    return data_lineflatten"
   ]
  },
  {
   "cell_type": "code",
   "execution_count": null,
   "metadata": {},
   "outputs": [],
   "source": [
    "#Test it\n",
    "data_lineflatten = flatten_line(data_line)\n",
    "plt.plot(data_line)\n",
    "plt.plot(data_lineflatten)"
   ]
  },
  {
   "cell_type": "markdown",
   "metadata": {},
   "source": [
    "Parabola fit\n",
    "\n",
    "Similar to line fit but with quadratic polynomial fit"
   ]
  },
  {
   "cell_type": "code",
   "execution_count": null,
   "metadata": {},
   "outputs": [],
   "source": [
    "def flatten_parabola(data_line):\n",
    "    x= np.arange(data_line.shape[0])\n",
    "    poly_params = np.polyfit(x,data_line,2)\n",
    "    \n",
    "    #Subtract line\n",
    "    line_y = poly_params[2]+x*poly_params[1] + x*x*poly_params[0]\n",
    "    data_flatten = data_line-line_y\n",
    "\n",
    "    return data_flatten"
   ]
  },
  {
   "cell_type": "code",
   "execution_count": null,
   "metadata": {},
   "outputs": [],
   "source": [
    "#Test it\n",
    "data_lineflatten_parab = flatten_parabola(data_line)\n",
    "plt.plot(data_line)\n",
    "plt.plot(data_lineflatten_parab)"
   ]
  },
  {
   "cell_type": "markdown",
   "metadata": {},
   "source": [
    "Try fit a spline"
   ]
  },
  {
   "cell_type": "code",
   "execution_count": null,
   "metadata": {},
   "outputs": [],
   "source": [
    "from scipy.interpolate import UnivariateSpline"
   ]
  },
  {
   "cell_type": "code",
   "execution_count": null,
   "metadata": {},
   "outputs": [],
   "source": [
    "spl = UnivariateSpline(x, data_line)\n",
    "spl"
   ]
  },
  {
   "cell_type": "code",
   "execution_count": null,
   "metadata": {},
   "outputs": [],
   "source": [
    "spline = spl(x)"
   ]
  },
  {
   "cell_type": "code",
   "execution_count": null,
   "metadata": {},
   "outputs": [],
   "source": [
    "data_line"
   ]
  },
  {
   "cell_type": "code",
   "execution_count": null,
   "metadata": {},
   "outputs": [],
   "source": [
    "spline"
   ]
  },
  {
   "cell_type": "code",
   "execution_count": null,
   "metadata": {},
   "outputs": [],
   "source": [
    "plt.plot(data_line)\n",
    "plt.plot(spline)"
   ]
  },
  {
   "cell_type": "markdown",
   "metadata": {},
   "source": [
    "not a good way to remove charging"
   ]
  },
  {
   "cell_type": "markdown",
   "metadata": {},
   "source": [
    "Try FFT filtering"
   ]
  },
  {
   "cell_type": "code",
   "execution_count": null,
   "metadata": {},
   "outputs": [],
   "source": [
    "data_line_fft = np.fft.rfft(data_line)"
   ]
  },
  {
   "cell_type": "code",
   "execution_count": null,
   "metadata": {},
   "outputs": [],
   "source": [
    "data_line_fft_powersp = np.absolute(data_line_fft)"
   ]
  },
  {
   "cell_type": "code",
   "execution_count": null,
   "metadata": {},
   "outputs": [],
   "source": [
    "plt.plot(data_line_fft_powersp)"
   ]
  },
  {
   "cell_type": "markdown",
   "metadata": {},
   "source": [
    "Check inverse fft restores signal"
   ]
  },
  {
   "cell_type": "code",
   "execution_count": null,
   "metadata": {},
   "outputs": [],
   "source": [
    "data_line_fft_ifft = np.fft.irfft(data_line_fft)"
   ]
  },
  {
   "cell_type": "code",
   "execution_count": null,
   "metadata": {},
   "outputs": [],
   "source": [
    "plt.plot(data_line_fft_ifft) #Restores signal ok"
   ]
  },
  {
   "cell_type": "markdown",
   "metadata": {},
   "source": [
    "Try filter low frequencies"
   ]
  },
  {
   "cell_type": "code",
   "execution_count": null,
   "metadata": {},
   "outputs": [],
   "source": [
    "filterfreq = 5\n",
    "data_line_fft_filter= np.copy(data_line_fft)\n",
    "data_line_fft_filter[:filterfreq] = 0 #high pass filter\n",
    "\n",
    "data_filter = np.fft.irfft(data_line_fft_filter)"
   ]
  },
  {
   "cell_type": "code",
   "execution_count": null,
   "metadata": {},
   "outputs": [],
   "source": [
    "plt.plot(data_filter)\n",
    "plt.plot(data_line)\n"
   ]
  },
  {
   "cell_type": "markdown",
   "metadata": {},
   "source": [
    "Looks quite good, and filter can maybe be adjusted"
   ]
  },
  {
   "cell_type": "markdown",
   "metadata": {},
   "source": [
    "## FFT 1D high pass filter with adjustable parameter"
   ]
  },
  {
   "cell_type": "code",
   "execution_count": null,
   "metadata": {},
   "outputs": [],
   "source": [
    "import ipywidgets"
   ]
  },
  {
   "cell_type": "code",
   "execution_count": null,
   "metadata": {},
   "outputs": [],
   "source": [
    "def HighPassFilterAndPlot(freq=5):\n",
    "    data_line_fft_filter= np.copy(data_line_fft)\n",
    "    data_line_fft_filter[:freq] = 0 #high pass filter\n",
    "\n",
    "    data_filter = np.fft.irfft(data_line_fft_filter)\n",
    "\n",
    "    plt.plot(data_filter)\n",
    "    plt.plot(data_line)"
   ]
  },
  {
   "cell_type": "code",
   "execution_count": null,
   "metadata": {},
   "outputs": [],
   "source": [
    "ipywidgets.interact(HighPassFilterAndPlot, freq= (0, 100, 1) )"
   ]
  },
  {
   "cell_type": "code",
   "execution_count": null,
   "metadata": {},
   "outputs": [],
   "source": []
  },
  {
   "cell_type": "code",
   "execution_count": null,
   "metadata": {},
   "outputs": [],
   "source": []
  },
  {
   "cell_type": "markdown",
   "metadata": {},
   "source": [
    "## Create similar filter but for the whole image\n",
    "\n",
    "Moved to file 'AnalyseImageStack.ipynb'"
   ]
  },
  {
   "cell_type": "code",
   "execution_count": null,
   "metadata": {},
   "outputs": [],
   "source": [
    "data_1Dfft = np.fft.rfft(data, axis=1)"
   ]
  },
  {
   "cell_type": "code",
   "execution_count": null,
   "metadata": {},
   "outputs": [],
   "source": [
    "def getFilterData2(freq=5):\n",
    "    data_fft_filter= np.copy(data_1Dfft)\n",
    "    data_fft_filter[:,:freq] = 0 #high pass filter\n",
    "    data_filter2 = np.fft.irfft(data_fft_filter, axis=1)\n",
    "    return data_filter2\n"
   ]
  },
  {
   "cell_type": "code",
   "execution_count": null,
   "metadata": {},
   "outputs": [],
   "source": [
    "fig, (ax0,ax1) = plt.subplots(1,2,sharey=True, figsize=(10,10))\n",
    "ax0.imshow(data)\n",
    "ax1.imshow(getFilterData2())"
   ]
  },
  {
   "cell_type": "code",
   "execution_count": null,
   "metadata": {},
   "outputs": [],
   "source": [
    "data_filter_1dfft = getFilterData2()\n",
    "plt.figure(figsize=(10,10))\n",
    "plt.imshow(data_filter_1dfft ,cmap='gray')"
   ]
  },
  {
   "cell_type": "code",
   "execution_count": null,
   "metadata": {},
   "outputs": [],
   "source": [
    "def HighPassFilterAndPlot1(freq=5):\n",
    "    # fig0, (ax0,ax1) = plt.subplots(2,1,sharey=True, figsize=(20,10))\n",
    "    # ax1.imshow(getFilterData2(freq))\n",
    "    plt.figure(figsize=(10,10))\n",
    "    plt.imshow(getFilterData2(freq))\n",
    "\n",
    "ipywidgets.interact(HighPassFilterAndPlot1, freq= (0, 50, 1),continuous_update=False )"
   ]
  },
  {
   "cell_type": "markdown",
   "metadata": {},
   "source": [
    "It appears to be working well with freq=5"
   ]
  },
  {
   "cell_type": "markdown",
   "metadata": {},
   "source": [
    "# Filter scan lines using previous lines\n",
    "\n",
    "Try to filter each individual scan line by doing subtracting a polynomial using information from previous lines.\n",
    "Scan lines are very similar to each others except when there is charging occuring.\n",
    "This technique works in the following way:\n",
    "1. use current scan line and subtract with previous scan line(s) to get a (noisy) difference-scan.\n",
    "2. Fit a polyonomial\n",
    "3. Subtract this polynomial to the current line and store it\n",
    "4. Next line"
   ]
  },
  {
   "cell_type": "code",
   "execution_count": null,
   "metadata": {},
   "outputs": [],
   "source": [
    "data_lineprev_filter = np.copy(data).astype(np.float32)\n",
    "nlines = data_lineprev_filter.shape[0]\n",
    "x= np.arange(data_lineprev_filter.shape[1])\n",
    "\n",
    "polyorder = 10\n",
    "\n",
    "for i in range(1,nlines):\n",
    "    curline = data_lineprev_filter[i,:]\n",
    "    prevline = data_lineprev_filter[i-1,:]\n",
    "\n",
    "    diffline = curline - prevline\n",
    "\n",
    "    #Fit polynomial\n",
    "    fitdiffline = np.poly1d(np.polyfit(x,diffline,polyorder))(x)\n",
    "\n",
    "    newline = curline - fitdiffline\n",
    "\n",
    "    #store the new line\n",
    "    data_lineprev_filter[i,:] = newline"
   ]
  },
  {
   "cell_type": "code",
   "execution_count": null,
   "metadata": {},
   "outputs": [],
   "source": [
    "plt.figure(figsize=(10,10))\n",
    "plt.imshow(data_lineprev_filter, cmap='gray')\n",
    "plt.title(f'filter using poly order {polyorder} and previous line as reference')"
   ]
  },
  {
   "cell_type": "code",
   "execution_count": null,
   "metadata": {},
   "outputs": [],
   "source": [
    "def filter_scandata2_lineprev(data0, polyorder=4):\n",
    "    data_lineprev_filter = np.copy(data0).astype(np.float32)\n",
    "    nlines = data_lineprev_filter.shape[0]\n",
    "    x= np.arange(data_lineprev_filter.shape[1])\n",
    "\n",
    "    for i in range(1,nlines):\n",
    "        curline = data_lineprev_filter[i,:]\n",
    "        prevline = data_lineprev_filter[i-1,:]\n",
    "\n",
    "        diffline = curline - prevline\n",
    "\n",
    "        #Fit polynomial\n",
    "        fitdiffline = np.poly1d(np.polyfit(x,diffline,polyorder))(x)\n",
    "\n",
    "        newline = curline - fitdiffline\n",
    "\n",
    "        #store the new line\n",
    "        data_lineprev_filter[i,:] = newline\n",
    "\n",
    "    return data_lineprev_filter"
   ]
  },
  {
   "cell_type": "code",
   "execution_count": null,
   "metadata": {},
   "outputs": [],
   "source": [
    "def filter_scandata2_lineprev_plot(polyorder):\n",
    "    fig,ax = plt.subplots(1,1,figsize=(10,10))\n",
    "    ax.imshow(filter_scandata2_lineprev(data,polyorder))\n",
    "ipywidgets.interact(filter_scandata2_lineprev_plot, polyorder= (1, 10,1),continuous_update=False )"
   ]
  },
  {
   "cell_type": "code",
   "execution_count": null,
   "metadata": {},
   "outputs": [],
   "source": []
  },
  {
   "cell_type": "code",
   "execution_count": null,
   "metadata": {},
   "outputs": [],
   "source": []
  },
  {
   "cell_type": "markdown",
   "metadata": {},
   "source": [
    "Try average previous lines"
   ]
  },
  {
   "cell_type": "code",
   "execution_count": null,
   "metadata": {},
   "outputs": [],
   "source": [
    "data_lineprev_filter_nlines = np.copy(data).astype(np.float32)\n",
    "nlines = data_lineprev_filter_nlines.shape[0]\n",
    "x= np.arange(data_lineprev_filter_nlines.shape[1])\n",
    "\n",
    "polyorder = 10\n",
    "\n",
    "nlinesaverage = 10\n",
    "\n",
    "for i in range(nlinesaverage,nlines):\n",
    "    curline = data_lineprev_filter_nlines[i,:]\n",
    "    prevline = np.mean(data_lineprev_filter_nlines[i-nlinesaverage:i,:], axis=0) #Average aling the y-axis\n",
    "\n",
    "    diffline = curline - prevline\n",
    "\n",
    "    #Fit polynomial\n",
    "    fitdiffline = np.poly1d(np.polyfit(x,diffline,polyorder))(x)\n",
    "\n",
    "    newline = curline - fitdiffline\n",
    "\n",
    "    #store the new line\n",
    "    data_lineprev_filter_nlines[i,:] = newline"
   ]
  },
  {
   "cell_type": "code",
   "execution_count": null,
   "metadata": {},
   "outputs": [],
   "source": [
    "plt.figure(figsize= (10,10))\n",
    "plt.imshow(data_lineprev_filter_nlines, cmap='gray')\n",
    "plt.title(f'filter using poly order {polyorder} and previous {nlinesaverage} lines averaged as reference')"
   ]
  },
  {
   "cell_type": "code",
   "execution_count": null,
   "metadata": {},
   "outputs": [],
   "source": [
    "data_lineprev_filter.dtype"
   ]
  },
  {
   "cell_type": "code",
   "execution_count": null,
   "metadata": {},
   "outputs": [],
   "source": []
  },
  {
   "cell_type": "markdown",
   "metadata": {},
   "source": [
    "Try doing outlier removal"
   ]
  },
  {
   "cell_type": "code",
   "execution_count": null,
   "metadata": {},
   "outputs": [],
   "source": [
    "#Test on a single line\n",
    "i = 2580\n",
    "nlinesaverage= 20\n",
    "\n",
    "curline = data[i,:].astype(np.float32)\n",
    "prevline = np.mean(data[i-nlinesaverage:i,:].astype(np.float32),axis=0)\n"
   ]
  },
  {
   "cell_type": "code",
   "execution_count": null,
   "metadata": {},
   "outputs": [],
   "source": [
    "plt.plot(curline)\n",
    "plt.plot(prevline)"
   ]
  },
  {
   "cell_type": "code",
   "execution_count": null,
   "metadata": {},
   "outputs": [],
   "source": [
    "diffline = curline - prevline"
   ]
  },
  {
   "cell_type": "code",
   "execution_count": null,
   "metadata": {},
   "outputs": [],
   "source": [
    "plt.plot(diffline)"
   ]
  },
  {
   "cell_type": "code",
   "execution_count": null,
   "metadata": {},
   "outputs": [],
   "source": [
    "#Fit polynomial\n",
    "fitpolyline = np.poly1d(np.polyfit(x, diffline,polyorder))(x)\n",
    "newline = curline - fitpolyline"
   ]
  },
  {
   "cell_type": "code",
   "execution_count": null,
   "metadata": {},
   "outputs": [],
   "source": [
    "plt.plot(curline)\n",
    "plt.plot(newline)"
   ]
  },
  {
   "cell_type": "code",
   "execution_count": null,
   "metadata": {},
   "outputs": [],
   "source": [
    "plt.plot(fitpolyline)"
   ]
  },
  {
   "cell_type": "code",
   "execution_count": null,
   "metadata": {},
   "outputs": [],
   "source": [
    "newlinecheck = newline-prevline\n",
    "varline = newlinecheck**2"
   ]
  },
  {
   "cell_type": "code",
   "execution_count": null,
   "metadata": {},
   "outputs": [],
   "source": [
    "plt.plot(varline)"
   ]
  },
  {
   "cell_type": "code",
   "execution_count": null,
   "metadata": {},
   "outputs": [],
   "source": [
    "maskline = varline<500"
   ]
  },
  {
   "cell_type": "code",
   "execution_count": null,
   "metadata": {},
   "outputs": [],
   "source": [
    "x_mask = x[maskline]"
   ]
  },
  {
   "cell_type": "code",
   "execution_count": null,
   "metadata": {},
   "outputs": [],
   "source": [
    "diffline_mask = diffline[maskline]"
   ]
  },
  {
   "cell_type": "code",
   "execution_count": null,
   "metadata": {},
   "outputs": [],
   "source": [
    "#Do the polyline fit now\n",
    "fitpolyline1 = np.poly1d(np.polyfit(x_mask, diffline_mask,polyorder))(x)"
   ]
  },
  {
   "cell_type": "code",
   "execution_count": null,
   "metadata": {},
   "outputs": [],
   "source": [
    "plt.plot(fitpolyline1)"
   ]
  },
  {
   "cell_type": "code",
   "execution_count": null,
   "metadata": {},
   "outputs": [],
   "source": [
    "polyfitsdiff = fitpolyline1 - fitpolyline\n",
    "plt.plot(polyfitsdiff)"
   ]
  },
  {
   "cell_type": "code",
   "execution_count": null,
   "metadata": {},
   "outputs": [],
   "source": [
    "newline1 = curline - fitpolyline1"
   ]
  },
  {
   "cell_type": "code",
   "execution_count": null,
   "metadata": {},
   "outputs": [],
   "source": [
    "plt.plot(curline)\n",
    "plt.plot(newline1)"
   ]
  },
  {
   "cell_type": "code",
   "execution_count": null,
   "metadata": {},
   "outputs": [],
   "source": []
  },
  {
   "cell_type": "markdown",
   "metadata": {},
   "source": [
    "THIS METHOD IS NOT WORKING"
   ]
  },
  {
   "cell_type": "code",
   "execution_count": null,
   "metadata": {},
   "outputs": [],
   "source": [
    "data_lineprev_filter_nlines_outlierrem = np.copy(data).astype(np.float32)\n",
    "nlines = data_lineprev_filter_nlines_outlierrem.shape[0]\n",
    "x= np.arange(data_lineprev_filter_nlines_outlierrem.shape[1])\n",
    "\n",
    "polyorder = 10\n",
    "\n",
    "nlinesaverage = 10\n",
    "maskvar = 50\n",
    "\n",
    "for i in range(nlinesaverage,nlines):\n",
    "    curline = data_lineprev_filter_nlines_outlierrem[i,:]\n",
    "    prevline = np.mean(data_lineprev_filter_nlines_outlierrem[i-nlinesaverage:i,:], axis=0) #Average aling the y-axis\n",
    "\n",
    "    diffline = curline - prevline\n",
    "\n",
    "    #Fit polynomial\n",
    "    fitpolyline = np.poly1d(np.polyfit(x, diffline,polyorder))(x)\n",
    "    newline = curline - fitpolyline\n",
    "\n",
    "    #Check it against prevline\n",
    "    newlinecheck = newline - prevline\n",
    "    varline = newlinecheck**2\n",
    "\n",
    "    maskline = varline<maskvar\n",
    "\n",
    "    x_mask = x[maskline]\n",
    "    diffline_mask = diffline[maskline]\n",
    "\n",
    "    #Fit again, this time excluding bad regions\n",
    "    fitpolyline1 = np.poly1d(np.polyfit(x_mask, diffline_mask,polyorder))(x)\n",
    "    newline1 = curline - fitpolyline1\n",
    "\n",
    "    #store the new line\n",
    "    data_lineprev_filter_nlines_outlierrem[i,:] = newline1\n",
    "\n",
    "plt.figure(figsize= (10,10))\n",
    "plt.imshow(data_lineprev_filter_nlines_outlierrem, cmap='gray')\n",
    "plt.title(f'filter using poly order {polyorder} and previous {nlinesaverage} lines averaged as reference, with outlier removal {maskvar}')"
   ]
  },
  {
   "cell_type": "code",
   "execution_count": null,
   "metadata": {},
   "outputs": [],
   "source": []
  },
  {
   "cell_type": "code",
   "execution_count": null,
   "metadata": {},
   "outputs": [],
   "source": []
  },
  {
   "cell_type": "markdown",
   "metadata": {},
   "source": [
    "## Check resulting images FFT 2D"
   ]
  },
  {
   "cell_type": "code",
   "execution_count": null,
   "metadata": {},
   "outputs": [],
   "source": [
    "data_fft2d = np.fft.fftshift(np.fft.fft2(data.astype(np.float32)))\n",
    "fftimage = np.log(np.absolute(data_fft2d))\n"
   ]
  },
  {
   "cell_type": "code",
   "execution_count": null,
   "metadata": {},
   "outputs": [],
   "source": [
    "fftimage.max()"
   ]
  },
  {
   "cell_type": "code",
   "execution_count": null,
   "metadata": {},
   "outputs": [],
   "source": [
    "fftimage.min()"
   ]
  },
  {
   "cell_type": "code",
   "execution_count": null,
   "metadata": {},
   "outputs": [],
   "source": [
    "plt.figure(figsize=(10,10))\n",
    "plt.imshow(fftimage, vmin =9, vmax=15)"
   ]
  },
  {
   "cell_type": "code",
   "execution_count": null,
   "metadata": {},
   "outputs": [],
   "source": [
    "import napari\n",
    "nv = napari.view_image(fftimage)"
   ]
  },
  {
   "cell_type": "code",
   "execution_count": null,
   "metadata": {},
   "outputs": [],
   "source": [
    "data_filter_1dfft_fft2d = np.fft.fftshift(np.fft.fft2(data_filter_1dfft.astype(np.float32)))\n",
    "data_filter_1dfft_fft2d_image = np.log(np.absolute(data_filter_1dfft_fft2d))\n",
    "nv.add_image(data_filter_1dfft_fft2d_image)"
   ]
  },
  {
   "cell_type": "code",
   "execution_count": null,
   "metadata": {},
   "outputs": [],
   "source": [
    "data_lineprev_filter_2dfft = np.fft.fftshift(np.fft.fft2(data_lineprev_filter.astype(np.float32)))\n",
    "data_lineprev_filter_2dfft_image = np.log(np.absolute(data_lineprev_filter_2dfft))\n",
    "nv.add_image(data_lineprev_filter_2dfft_image)"
   ]
  },
  {
   "cell_type": "code",
   "execution_count": null,
   "metadata": {},
   "outputs": [],
   "source": [
    "data_lineprev_filter_nlines_2dfft = np.fft.fftshift(np.fft.fft2(data_lineprev_filter_nlines.astype(np.float32)))\n",
    "data_lineprev_filter_nlines_2dfft_image = np.log(np.absolute(data_lineprev_filter_nlines_2dfft))\n",
    "nv.add_image(data_lineprev_filter_nlines_2dfft_image)"
   ]
  },
  {
   "cell_type": "code",
   "execution_count": null,
   "metadata": {},
   "outputs": [],
   "source": []
  }
 ],
 "metadata": {
  "interpreter": {
   "hash": "c325c6d59c74a4c34829b361ffe5d293e7aae8f9d29161ab0080dc8fa2ba6aca"
  },
  "kernelspec": {
   "display_name": "Python 3.10.2 ('dev')",
   "language": "python",
   "name": "python3"
  },
  "language_info": {
   "codemirror_mode": {
    "name": "ipython",
    "version": 3
   },
   "file_extension": ".py",
   "mimetype": "text/x-python",
   "name": "python",
   "nbconvert_exporter": "python",
   "pygments_lexer": "ipython3",
   "version": "3.10.2"
  },
  "orig_nbformat": 4
 },
 "nbformat": 4,
 "nbformat_minor": 2
}
