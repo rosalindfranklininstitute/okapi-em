{
 "cells": [
  {
   "cell_type": "code",
   "execution_count": null,
   "metadata": {},
   "outputs": [],
   "source": [
    "import numpy as np\n",
    "import matplotlib.pyplot as plt\n",
    "import tifffile\n",
    "import ipywidgets"
   ]
  },
  {
   "cell_type": "code",
   "execution_count": null,
   "metadata": {},
   "outputs": [],
   "source": [
    "from pathlib import Path\n",
    "import os"
   ]
  },
  {
   "cell_type": "code",
   "execution_count": null,
   "metadata": {},
   "outputs": [],
   "source": [
    "#Put here the folder where files are located\n",
    "dirpath = '/some_folder_with_a_lot_of_slice_and_view_tiff_files/'"
   ]
  },
  {
   "cell_type": "code",
   "execution_count": null,
   "metadata": {},
   "outputs": [],
   "source": [
    "#paths = sorted(Path(dirpath).iterdir(), key=os.path.getmtime)\n",
    "paths = sorted(Path(dirpath).iterdir(), key=os.path.basename) #OK\n",
    "paths"
   ]
  },
  {
   "cell_type": "code",
   "execution_count": null,
   "metadata": {},
   "outputs": [],
   "source": [
    "len(paths)"
   ]
  },
  {
   "cell_type": "code",
   "execution_count": null,
   "metadata": {},
   "outputs": [],
   "source": [
    "dataall=None"
   ]
  },
  {
   "cell_type": "code",
   "execution_count": null,
   "metadata": {},
   "outputs": [],
   "source": [
    "#Loads all images\n",
    "for i in range(len(paths)):\n",
    "    filepath = paths[i]\n",
    "    data = tifffile.imread(filepath)\n",
    "    if dataall is None:\n",
    "        dataall = np.zeros((len(paths), data.shape[0], data.shape[1]), dtype = data.dtype)\n",
    "    \n",
    "    dataall[i,:,:] = data\n"
   ]
  },
  {
   "cell_type": "code",
   "execution_count": null,
   "metadata": {},
   "outputs": [],
   "source": [
    "dataall.shape"
   ]
  },
  {
   "cell_type": "code",
   "execution_count": null,
   "metadata": {},
   "outputs": [],
   "source": [
    "dataall.dtype"
   ]
  },
  {
   "cell_type": "code",
   "execution_count": null,
   "metadata": {},
   "outputs": [],
   "source": [
    "dataall.max()"
   ]
  },
  {
   "cell_type": "code",
   "execution_count": null,
   "metadata": {},
   "outputs": [],
   "source": [
    "dataall.min()"
   ]
  },
  {
   "cell_type": "code",
   "execution_count": null,
   "metadata": {},
   "outputs": [],
   "source": [
    "tifffile.imwrite('dataall_uint8.tiff', dataall)"
   ]
  },
  {
   "cell_type": "code",
   "execution_count": null,
   "metadata": {},
   "outputs": [],
   "source": [
    "def show_dataall_by_slice(slice=0):\n",
    "    fig,ax0 = plt.subplots(1,1)\n",
    "    ax0.imshow(dataall[slice,:,:])\n",
    "ipywidgets.interact(show_dataall_by_slice, slice= (0, dataall.shape[0], 1), continuous_update=False)\n"
   ]
  },
  {
   "cell_type": "markdown",
   "metadata": {},
   "source": [
    "## Filter dataall using the FFT directional filter"
   ]
  },
  {
   "cell_type": "code",
   "execution_count": null,
   "metadata": {},
   "outputs": [],
   "source": [
    "dataall_filtered = np.zeros_like(dataall).astype(dtype=np.float32)"
   ]
  },
  {
   "cell_type": "code",
   "execution_count": null,
   "metadata": {},
   "outputs": [],
   "source": [
    "def get_DirFFTFilter_From_2D(data2d, freq=5):\n",
    "    data2d_FFT1D = np.fft.rfft(data2d, axis=1)\n",
    "    data_fft_filter= np.copy(data2d_FFT1D)\n",
    "    data_fft_filter[:,:freq] = 0 #high pass filter\n",
    "    data_filter2 = np.fft.irfft(data_fft_filter, axis=1)\n",
    "    return data_filter2"
   ]
  },
  {
   "cell_type": "code",
   "execution_count": null,
   "metadata": {},
   "outputs": [],
   "source": [
    "#test\n",
    "dtest = get_DirFFTFilter_From_2D(dataall[0,:,:], freq=5)\n",
    "plt.imshow(dtest)"
   ]
  },
  {
   "cell_type": "code",
   "execution_count": null,
   "metadata": {},
   "outputs": [],
   "source": [
    "dtest.dtype"
   ]
  },
  {
   "cell_type": "code",
   "execution_count": null,
   "metadata": {},
   "outputs": [],
   "source": [
    "#Do the filtereing of the whole volume\n",
    "freq=5\n",
    "for islice in range(dataall.shape[0]):\n",
    "    dataall_filtered[islice,:,:] = get_DirFFTFilter_From_2D(dataall[islice,:,:], freq)"
   ]
  },
  {
   "cell_type": "code",
   "execution_count": null,
   "metadata": {},
   "outputs": [],
   "source": [
    "def show_dataall_filtered_by_slice(slice=0):\n",
    "    fig,ax1 = plt.subplots(1,1,figsize=(5,5))\n",
    "    ax1.imshow(dataall_filtered[slice,:,:])\n",
    "ipywidgets.interact(show_dataall_filtered_by_slice, slice= (0, dataall_filtered.shape[0], 1), continuous_update=False)"
   ]
  },
  {
   "cell_type": "code",
   "execution_count": null,
   "metadata": {},
   "outputs": [],
   "source": [
    "dataall_filtered.max()"
   ]
  },
  {
   "cell_type": "code",
   "execution_count": null,
   "metadata": {},
   "outputs": [],
   "source": [
    "dataall_filtered.min()"
   ]
  },
  {
   "cell_type": "code",
   "execution_count": null,
   "metadata": {},
   "outputs": [],
   "source": [
    "#Show a cross section\n",
    "plt.imshow(dataall_filtered[:,200, :60])"
   ]
  },
  {
   "cell_type": "code",
   "execution_count": null,
   "metadata": {},
   "outputs": [],
   "source": []
  },
  {
   "cell_type": "code",
   "execution_count": null,
   "metadata": {},
   "outputs": [],
   "source": [
    "import napari"
   ]
  },
  {
   "cell_type": "code",
   "execution_count": null,
   "metadata": {},
   "outputs": [],
   "source": [
    "napari.view_image(dataall_filtered[18,:, :])"
   ]
  },
  {
   "cell_type": "code",
   "execution_count": null,
   "metadata": {},
   "outputs": [],
   "source": [
    "napari.view_image(dataall_filtered)"
   ]
  },
  {
   "cell_type": "markdown",
   "metadata": {},
   "source": [
    "Data is in float format, which takes a lot of space. Convert to uint8"
   ]
  },
  {
   "cell_type": "code",
   "execution_count": null,
   "metadata": {},
   "outputs": [],
   "source": [
    "#Copied from RedLionfish helperfunctions.py\n",
    "import logging\n",
    "def convertToFloat32AndNormalise(data, normaliseType=None, bResetZero=True):\n",
    "    '''\n",
    "    Converts data to float32 format and optionally resets zero and normalises\n",
    "    Parameters:\n",
    "        data\n",
    "        normalisetype: None for no normalisation, 'max' normalises to max, 'sum' to normalise to sum of whole volume\n",
    "        bResetZero: flags to whether shift the minimum value to zero\n",
    "    '''\n",
    "    if data is None:\n",
    "        return None\n",
    "    \n",
    "    ret= data.astype(np.float32)\n",
    "\n",
    "    vmin= 0\n",
    "    if bResetZero:\n",
    "        vmin = ret.min()\n",
    "    ret = ret-vmin\n",
    "\n",
    "    if not normaliseType is None:\n",
    "        normcorr = 1.0\n",
    "        if normaliseType == 'max':\n",
    "            #Normalise to maximum value\n",
    "            normcorr= ret.max()\n",
    "        else:\n",
    "            #normalise to sum\n",
    "            normcorr = np.sum(ret)\n",
    "        #Check for zero before division\n",
    "        if normcorr==0.0:\n",
    "            logging.info(\"normcorr = 0. Normalisation will be skipped to prevent division by zero.\")\n",
    "        else:\n",
    "            ret = ret/normcorr\n",
    "    return ret\n",
    "    \n",
    "def convertToUint8AndFullRange(data):\n",
    "    if data is None:\n",
    "        return None\n",
    "        \n",
    "    res_256 = convertToFloat32AndNormalise(data, normaliseType='max', bResetZero=True)*256\n",
    "    res_uint8 = res_256.astype('uint8')\n",
    "    return res_uint8"
   ]
  },
  {
   "cell_type": "code",
   "execution_count": null,
   "metadata": {},
   "outputs": [],
   "source": [
    "dataall_filtered_uint8 = convertToUint8AndFullRange(dataall_filtered)"
   ]
  },
  {
   "cell_type": "code",
   "execution_count": null,
   "metadata": {},
   "outputs": [],
   "source": [
    "tifffile.imwrite('dataall_filtered_uint8.tiff', dataall_filtered_uint8)"
   ]
  },
  {
   "cell_type": "code",
   "execution_count": null,
   "metadata": {},
   "outputs": [],
   "source": []
  }
 ],
 "metadata": {
  "interpreter": {
   "hash": "c325c6d59c74a4c34829b361ffe5d293e7aae8f9d29161ab0080dc8fa2ba6aca"
  },
  "kernelspec": {
   "display_name": "Python 3.10.2 ('dev')",
   "language": "python",
   "name": "python3"
  },
  "language_info": {
   "codemirror_mode": {
    "name": "ipython",
    "version": 3
   },
   "file_extension": ".py",
   "mimetype": "text/x-python",
   "name": "python",
   "nbconvert_exporter": "python",
   "pygments_lexer": "ipython3",
   "version": "3.10.2"
  },
  "orig_nbformat": 4
 },
 "nbformat": 4,
 "nbformat_minor": 2
}
